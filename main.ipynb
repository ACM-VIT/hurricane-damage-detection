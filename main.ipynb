{
  "nbformat": 4,
  "nbformat_minor": 0,
  "metadata": {
    "kernelspec": {
      "display_name": "Python 3",
      "language": "python",
      "name": "python3"
    },
    "language_info": {
      "codemirror_mode": {
        "name": "ipython",
        "version": 3
      },
      "file_extension": ".py",
      "mimetype": "text/x-python",
      "name": "python",
      "nbconvert_exporter": "python",
      "pygments_lexer": "ipython3",
      "version": "3.8.5"
    },
    "colab": {
      "name": "Copy of main.ipynb",
      "provenance": [],
      "collapsed_sections": []
    }
  },
  "cells": [
    {
      "cell_type": "markdown",
      "metadata": {
        "id": "nuAPx9USFfL7"
      },
      "source": [
        "# Hurricane Damage Detection\n",
        "\n",
        "## Data\n",
        "\n",
        "The link to the Dataset has been provided in the Dataset section. You can find the satellite images of the Texas City\n",
        "\n",
        "\n",
        "It has four folders which contains images of 2 classes(Damage and No damage).They are,\n",
        "\n",
        "\n",
        "1) train_another : Contains training data with 5000 images of each class\n",
        "\n",
        "2) validation_another : Contains validation data with 1000 images of each class\n",
        "\n",
        "3) test_another : Contains unbalanced test data with 8000/1000 images of damaged/undamaged classes\n",
        "\n",
        "4) test : Contains balanced test data with 1000 images of each class\n",
        "\n"
      ]
    },
    {
      "cell_type": "markdown",
      "metadata": {
        "id": "brXgsEAvFfMC"
      },
      "source": [
        "## Import the packages:\n",
        "\n",
        "The basic required packages have been given in requirements.txt which can be installed using the pip command given in the usage section.\n",
        "\n",
        "## For example :"
      ]
    },
    {
      "cell_type": "code",
      "metadata": {
        "id": "jq2y9GTfFfMD"
      },
      "source": [
        "import pandas \n",
        "import matplotlib \n",
        "import cv2\n",
        "import tensorflow"
      ],
      "execution_count": null,
      "outputs": []
    },
    {
      "cell_type": "markdown",
      "metadata": {
        "id": "8GzTiosOFfMF"
      },
      "source": [
        "## Import the dataset :"
      ]
    },
    {
      "cell_type": "code",
      "metadata": {
        "id": "T0U_xiF9FfMF"
      },
      "source": [
        "\n",
        "\n"
      ],
      "execution_count": null,
      "outputs": []
    },
    {
      "cell_type": "markdown",
      "metadata": {
        "id": "gyDEbBwOFfMG"
      },
      "source": [
        "## Plot the spatial distribution :"
      ]
    },
    {
      "cell_type": "code",
      "metadata": {
        "id": "gqWz0IjMFfMG"
      },
      "source": [
        "def spatial_distri_graph(img):\n",
        "{\n",
        "    #make a quick plot\n",
        "}    "
      ],
      "execution_count": null,
      "outputs": []
    },
    {
      "cell_type": "markdown",
      "metadata": {
        "id": "0iKQq5ulFfMH"
      },
      "source": [
        "## Image pre-processing :\n",
        "\n",
        "Pre-process the image data using TensorFlow modules"
      ]
    },
    {
      "cell_type": "code",
      "metadata": {
        "id": "lSSm0j8kFfMI"
      },
      "source": [
        "def pre_processing(img):\n",
        "{\n",
        "    # Perform the various pre-processing techniques over the images\n",
        "} "
      ],
      "execution_count": null,
      "outputs": []
    },
    {
      "cell_type": "markdown",
      "metadata": {
        "id": "cSmeoH78FfMJ"
      },
      "source": [
        "## Building the model :\n",
        "\n",
        "Now that the image data has been pre-processed, it is ready to be put to use.\n",
        "\n",
        "The next step is to build the model."
      ]
    },
    {
      "cell_type": "code",
      "metadata": {
        "id": "C69tdC_gFfMJ"
      },
      "source": [
        "def model():\n",
        "{\n",
        "        #Build the model\n",
        "}"
      ],
      "execution_count": null,
      "outputs": []
    },
    {
      "cell_type": "markdown",
      "metadata": {
        "id": "y_4vNFtXFfMK"
      },
      "source": [
        "## Training the model with train data :\n",
        "\n",
        "Train the model with train_another data"
      ]
    },
    {
      "cell_type": "code",
      "metadata": {
        "id": "uaelaKMnFfMK"
      },
      "source": [
        "def train(model,train_data):\n",
        "{\n",
        "        #Train the model.\n",
        "}"
      ],
      "execution_count": null,
      "outputs": []
    },
    {
      "cell_type": "markdown",
      "metadata": {
        "id": "gDjaCuMeFfML"
      },
      "source": [
        "## Testing the model :\n",
        "\n",
        "Test the model test and validation data"
      ]
    },
    {
      "cell_type": "code",
      "metadata": {
        "id": "j4hR7QH9FfML"
      },
      "source": [
        "def test(model,test_data):\n",
        "{\n",
        "    #Test the model\n",
        "}"
      ],
      "execution_count": null,
      "outputs": []
    },
    {
      "cell_type": "markdown",
      "metadata": {
        "id": "REqnv88GFfML"
      },
      "source": [
        "## Evaluate the model :\n",
        "\n",
        "Evaluate the efficiency of the model by comparing the predicted and observed label classes to see the actual accuracy."
      ]
    },
    {
      "cell_type": "code",
      "metadata": {
        "id": "FRhnQdPyFfMM"
      },
      "source": [
        "def evaluate(model,test_data):\n",
        "{\n",
        "    # evaluate the model\n",
        "}"
      ],
      "execution_count": null,
      "outputs": []
    },
    {
      "cell_type": "markdown",
      "metadata": {
        "id": "wvPQDtOmFfMM"
      },
      "source": [
        "## Test it by adjusting the sharpness and bluriness :\n",
        "\n",
        "Modify the sharpness and bluriness of test images and test it. \n",
        "\n",
        "Then compare its accuracy with previous observation"
      ]
    },
    {
      "cell_type": "code",
      "metadata": {
        "id": "U6GZOEO6FfMM"
      },
      "source": [
        "def adj_sharp(model,test_data):\n",
        "{\n",
        "    # Adjust the sharpness\n",
        "}"
      ],
      "execution_count": null,
      "outputs": []
    },
    {
      "cell_type": "markdown",
      "metadata": {
        "id": "hApAkJIWFfMM"
      },
      "source": [
        "## Optimize the model :\n",
        "\n",
        "Try to enhance the model efficiency \n",
        "\n",
        "Apply various methods and change the parameters"
      ]
    },
    {
      "cell_type": "code",
      "metadata": {
        "id": "ezHjBoSNFfMN"
      },
      "source": [
        "def optimize(model):\n",
        "{\n",
        "    #optimize the model\n",
        "}"
      ],
      "execution_count": null,
      "outputs": []
    },
    {
      "cell_type": "markdown",
      "metadata": {
        "id": "uQbYoyceFfMN"
      },
      "source": [
        "## Evaluation of optimized model :\n",
        "\n",
        "Evaluate the accuracy of optimized model with test data"
      ]
    },
    {
      "cell_type": "code",
      "metadata": {
        "id": "qUHAi2QMFfMN"
      },
      "source": [
        "def eval_op(model,test_data):\n",
        "{\n",
        "    # Evaluate the optimized model\n",
        "}"
      ],
      "execution_count": null,
      "outputs": []
    },
    {
      "cell_type": "markdown",
      "metadata": {
        "id": "H8Ax13hxFjqN"
      },
      "source": [
        "Test accuracy of Model:"
      ]
    },
    {
      "cell_type": "code",
      "metadata": {
        "id": "GXksLkMwFsZq"
      },
      "source": [
        "def accuracy(mode',test_data):\n",
        "  {\n",
        "      # Evaluate the accuracy of the ML model\n",
        "  }"
      ],
      "execution_count": null,
      "outputs": []
    },
    {
      "cell_type": "markdown",
      "metadata": {
        "id": "iR0uxnCJF4Ty"
      },
      "source": [
        "Checking for irrelevant features in dataset:"
      ]
    },
    {
      "cell_type": "markdown",
      "metadata": {
        "id": "IkOpXKMQGX0Z"
      },
      "source": [
        "Checking for Data Bias:"
      ]
    }
  ]
}