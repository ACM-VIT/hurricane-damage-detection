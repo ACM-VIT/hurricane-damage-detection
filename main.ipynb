{
 "cells": [
  {
   "cell_type": "markdown",
   "metadata": {
    "id": "nuAPx9USFfL7"
   },
   "source": [
    "# Hurricane Damage Detection\n",
    "\n",
    "## Data\n",
    "\n",
    "The link to the Dataset has been provided in the Dataset section. You can find the satellite images of the Texas City\n",
    "\n",
    "\n",
    "It has four folders which contains images of 2 classes(Damage and No damage).They are,\n",
    "\n",
    "\n",
    "1) train_another : Contains training data with 5000 images of each class\n",
    "\n",
    "2) validation_another : Contains validation data with 1000 images of each class\n",
    "\n",
    "3) test_another : Contains unbalanced test data with 8000/1000 images of damaged/undamaged classes\n",
    "\n",
    "4) test : Contains balanced test data with 1000 images of each class\n",
    "\n"
   ]
  },
  {
   "cell_type": "markdown",
   "metadata": {
    "id": "brXgsEAvFfMC"
   },
   "source": [
    "## Import the packages:\n",
    "\n",
    "The basic required packages have been given in requirements.txt which can be installed using the pip command given in the usage section.\n",
    "\n",
    "## For example :"
   ]
  },
  {
   "cell_type": "code",
   "execution_count": 1,
   "metadata": {
    "id": "jq2y9GTfFfMD"
   },
   "outputs": [],
   "source": [
    "import numpy as np\n",
    "import pandas as pd\n",
    "import matplotlib.pyplot as plt \n",
    "import seaborn as sns\n",
    "import cv2\n",
    "import os\n",
    "import PIL\n",
    "%matplotlib inline"
   ]
  },
  {
   "cell_type": "markdown",
   "metadata": {
    "id": "8GzTiosOFfMF"
   },
   "source": [
    "## Import the dataset :"
   ]
  },
  {
   "cell_type": "code",
   "execution_count": 2,
   "metadata": {},
   "outputs": [],
   "source": [
    "def alot(path,x):\n",
    "    arr=[]\n",
    "    for files in os.listdir(path):\n",
    "        img = cv2.imread(path+'/'+files)\n",
    "        img = np.array(img)\n",
    "        img=img.flatten()\n",
    "        img.reshape(-1,1)\n",
    "        arr.append([img,x])\n",
    "    return arr\n",
    "\n",
    "test_damage=[]\n",
    "x=1\n",
    "path = '/Users/sshou/Desktop/hurricane/test/damage'\n",
    "test_damage=alot(path,x)\n",
    "\n",
    "test_no_damage=[]\n",
    "x=0\n",
    "path='/Users/sshou/Desktop/hurricane/test/damage'\n",
    "test_no_damage=alot(path,x)\n",
    "\n",
    "train_damage=[]\n",
    "x=1\n",
    "path='/Users/sshou/Desktop/hurricane/train_another/damage/'\n",
    "train_damage=alot(path,x)\n",
    "\n",
    "\n",
    "train_no_damage=[]\n",
    "x=0\n",
    "path='/Users/sshou/Desktop/hurricane/train_another/no_damage/'\n",
    "train_no_damage= alot(path,x)\n"
   ]
  },
  {
   "cell_type": "code",
   "execution_count": 3,
   "metadata": {},
   "outputs": [],
   "source": [
    "df = pd.DataFrame(test_damage,columns=['img','damage'])\n",
    "df = df.append(pd.DataFrame(test_no_damage,columns=['img','damage']),ignore_index = True)\n",
    "df = df.append(pd.DataFrame(train_damage,columns=['img','damage']),ignore_index=True)\n",
    "df = df.append(pd.DataFrame(train_no_damage,columns=['img','damage']),ignore_index=True)"
   ]
  },
  {
   "cell_type": "code",
   "execution_count": 4,
   "metadata": {},
   "outputs": [
    {
     "data": {
      "text/plain": [
       "array([26, 37, 27, ..., 51, 87, 70], dtype=uint8)"
      ]
     },
     "execution_count": 4,
     "metadata": {},
     "output_type": "execute_result"
    }
   ],
   "source": [
    "df['img'][0]"
   ]
  },
  {
   "cell_type": "markdown",
   "metadata": {
    "id": "gyDEbBwOFfMG"
   },
   "source": [
    "## Plot the spatial distribution :"
   ]
  },
  {
   "cell_type": "code",
   "execution_count": null,
   "metadata": {
    "id": "gqWz0IjMFfMG"
   },
   "outputs": [],
   "source": []
  },
  {
   "cell_type": "markdown",
   "metadata": {
    "id": "0iKQq5ulFfMH"
   },
   "source": [
    "## Image pre-processing :\n",
    "\n",
    "Pre-process the image data using TensorFlow modules"
   ]
  },
  {
   "cell_type": "code",
   "execution_count": null,
   "metadata": {
    "id": "lSSm0j8kFfMI"
   },
   "outputs": [],
   "source": [
    "def pre_processing(img):\n",
    "{\n",
    "    # Perform the various pre-processing techniques over the images\n",
    "} "
   ]
  },
  {
   "cell_type": "markdown",
   "metadata": {
    "id": "cSmeoH78FfMJ"
   },
   "source": [
    "## Building the model :\n",
    "\n",
    "Now that the image data has been pre-processed, it is ready to be put to use.\n",
    "\n",
    "The next step is to build the model."
   ]
  },
  {
   "cell_type": "code",
   "execution_count": 5,
   "metadata": {
    "id": "C69tdC_gFfMJ"
   },
   "outputs": [],
   "source": [
    "from sklearn.ensemble import RandomForestClassifier\n",
    "rfc = RandomForestClassifier(n_estimators=200)\n"
   ]
  },
  {
   "cell_type": "markdown",
   "metadata": {
    "id": "y_4vNFtXFfMK"
   },
   "source": [
    "## Training the model with train data :\n",
    "\n",
    "Train the model with train_another data"
   ]
  },
  {
   "cell_type": "code",
   "execution_count": 14,
   "metadata": {
    "id": "uaelaKMnFfMK"
   },
   "outputs": [],
   "source": [
    "X_train, X_test, y_train, y_test = [],[],[],[]\n",
    "\n",
    "for features,label in train_damage:\n",
    "  X_train.append(features)\n",
    "  y_train.append(label)\n",
    "\n",
    "for features,label in train_no_damage:\n",
    "  X_train.append(features)\n",
    "  y_train.append(label)\n",
    "    \n",
    "for features,label in test_damage:\n",
    "  X_test.append(features)\n",
    "  y_test.append(label)\n",
    "\n",
    "for features,label in test_no_damage:\n",
    "  X_test.append(features)\n",
    "  y_test.append(label)"
   ]
  },
  {
   "cell_type": "code",
   "execution_count": 17,
   "metadata": {},
   "outputs": [
    {
     "data": {
      "text/plain": [
       "(10000, 49152)"
      ]
     },
     "execution_count": 17,
     "metadata": {},
     "output_type": "execute_result"
    }
   ],
   "source": [
    "X_train = np.array(X_train)\n",
    "X_train.shape"
   ]
  },
  {
   "cell_type": "code",
   "execution_count": 18,
   "metadata": {},
   "outputs": [
    {
     "data": {
      "text/plain": [
       "(2000, 49152)"
      ]
     },
     "execution_count": 18,
     "metadata": {},
     "output_type": "execute_result"
    }
   ],
   "source": [
    "X_test = np.array(X_test)\n",
    "X_test.shape"
   ]
  },
  {
   "cell_type": "code",
   "execution_count": 19,
   "metadata": {},
   "outputs": [
    {
     "data": {
      "text/plain": [
       "RandomForestClassifier(n_estimators=200)"
      ]
     },
     "execution_count": 19,
     "metadata": {},
     "output_type": "execute_result"
    }
   ],
   "source": [
    "rfc.fit(X_train,y_train)"
   ]
  },
  {
   "cell_type": "markdown",
   "metadata": {
    "id": "gDjaCuMeFfML"
   },
   "source": [
    "## Testing the model :\n",
    "\n",
    "Test the model test and validation data"
   ]
  },
  {
   "cell_type": "code",
   "execution_count": 20,
   "metadata": {
    "id": "j4hR7QH9FfML"
   },
   "outputs": [],
   "source": [
    "pred = rfc.predict(X_test)"
   ]
  },
  {
   "cell_type": "markdown",
   "metadata": {
    "id": "REqnv88GFfML"
   },
   "source": [
    "## Evaluate the model :\n",
    "\n",
    "Evaluate the efficiency of the model by comparing the predicted and observed label classes to see the actual accuracy."
   ]
  },
  {
   "cell_type": "code",
   "execution_count": 21,
   "metadata": {
    "id": "FRhnQdPyFfMM"
   },
   "outputs": [],
   "source": [
    "from sklearn.metrics import classification_report\n"
   ]
  },
  {
   "cell_type": "code",
   "execution_count": null,
   "metadata": {},
   "outputs": [],
   "source": []
  },
  {
   "cell_type": "markdown",
   "metadata": {
    "id": "wvPQDtOmFfMM"
   },
   "source": [
    "## Test it by adjusting the sharpness and bluriness :\n",
    "\n",
    "Modify the sharpness and bluriness of test images and test it. \n",
    "\n",
    "Then compare its accuracy with previous observation"
   ]
  },
  {
   "cell_type": "code",
   "execution_count": null,
   "metadata": {
    "id": "U6GZOEO6FfMM"
   },
   "outputs": [],
   "source": [
    "def adj_sharp(model,test_data):\n",
    "{\n",
    "    # Adjust the sharpness\n",
    "}"
   ]
  },
  {
   "cell_type": "markdown",
   "metadata": {
    "id": "hApAkJIWFfMM"
   },
   "source": [
    "## Optimize the model :\n",
    "\n",
    "Try to enhance the model efficiency \n",
    "\n",
    "Apply various methods and change the parameters"
   ]
  },
  {
   "cell_type": "code",
   "execution_count": null,
   "metadata": {
    "id": "ezHjBoSNFfMN"
   },
   "outputs": [],
   "source": [
    "def optimize(model):\n",
    "{\n",
    "    #optimize the model\n",
    "}"
   ]
  },
  {
   "cell_type": "markdown",
   "metadata": {
    "id": "uQbYoyceFfMN"
   },
   "source": [
    "## Evaluation of optimized model :\n",
    "\n",
    "Evaluate the accuracy of optimized model with test data"
   ]
  },
  {
   "cell_type": "code",
   "execution_count": null,
   "metadata": {
    "id": "qUHAi2QMFfMN"
   },
   "outputs": [],
   "source": [
    "def eval_op(model,test_data):\n",
    "{\n",
    "    # Evaluate the optimized model\n",
    "}"
   ]
  },
  {
   "cell_type": "markdown",
   "metadata": {
    "id": "H8Ax13hxFjqN"
   },
   "source": [
    "Test accuracy of Model:"
   ]
  },
  {
   "cell_type": "code",
   "execution_count": null,
   "metadata": {
    "id": "GXksLkMwFsZq"
   },
   "outputs": [],
   "source": [
    "def accuracy(model,test_data):\n",
    "  {\n",
    "      # Evaluate the accuracy of the ML model\n",
    "  }"
   ]
  },
  {
   "cell_type": "markdown",
   "metadata": {
    "id": "iR0uxnCJF4Ty"
   },
   "source": [
    "Checking for irrelevant features in dataset:"
   ]
  },
  {
   "cell_type": "code",
   "execution_count": null,
   "metadata": {
    "id": "b1LTwJ6gHlqT"
   },
   "outputs": [],
   "source": [
    "def remove(test_data):\n",
    "  {\n",
    "      # Remove irrelevant features from dataset\n",
    "  }"
   ]
  },
  {
   "cell_type": "markdown",
   "metadata": {
    "id": "IkOpXKMQGX0Z"
   },
   "source": [
    "Checking for Data Bias:"
   ]
  },
  {
   "cell_type": "code",
   "execution_count": null,
   "metadata": {
    "id": "wnDUvKc8HmGZ"
   },
   "outputs": [],
   "source": [
    "def data_bias(model,test_data):\n",
    "  {\n",
    "      # Check for data bias\n",
    "  }"
   ]
  }
 ],
 "metadata": {
  "colab": {
   "collapsed_sections": [],
   "name": "Copy of main.ipynb",
   "provenance": []
  },
  "kernelspec": {
   "display_name": "Python 3",
   "language": "python",
   "name": "python3"
  },
  "language_info": {
   "codemirror_mode": {
    "name": "ipython",
    "version": 3
   },
   "file_extension": ".py",
   "mimetype": "text/x-python",
   "name": "python",
   "nbconvert_exporter": "python",
   "pygments_lexer": "ipython3",
   "version": "3.8.3"
  }
 },
 "nbformat": 4,
 "nbformat_minor": 1
}
